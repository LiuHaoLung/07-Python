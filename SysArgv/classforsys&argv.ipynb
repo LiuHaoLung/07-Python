{
 "cells": [
  {
   "cell_type": "code",
   "execution_count": 1,
   "metadata": {},
   "outputs": [],
   "source": [
    "import sys"
   ]
  },
  {
   "cell_type": "code",
   "execution_count": 2,
   "metadata": {},
   "outputs": [
    {
     "name": "stdout",
     "output_type": "stream",
     "text": [
      "['/Users/How.Short/anaconda3/lib/python3.7/site-packages/ipykernel_launcher.py', '-f', '/Users/How.Short/Library/Jupyter/runtime/kernel-6ff1c10f-911b-466d-95a9-0119b46531ad.json']\n"
     ]
    }
   ],
   "source": [
    "print(sys.argv)"
   ]
  },
  {
   "cell_type": "code",
   "execution_count": 3,
   "metadata": {},
   "outputs": [
    {
     "name": "stdout",
     "output_type": "stream",
     "text": [
      "/Users/How.Short/anaconda3/lib/python3.7/site-packages/ipykernel_launcher.py\n"
     ]
    }
   ],
   "source": [
    "print(sys.argv[0])"
   ]
  },
  {
   "cell_type": "code",
   "execution_count": 4,
   "metadata": {},
   "outputs": [
    {
     "name": "stdout",
     "output_type": "stream",
     "text": [
      "This is a file name: /Users/How.Short/anaconda3/lib/python3.7/site-packages/ipykernel_launcher.py\n",
      "This is an argument: -f\n",
      "This is an argument: /Users/How.Short/Library/Jupyter/runtime/kernel-6ff1c10f-911b-466d-95a9-0119b46531ad.json\n"
     ]
    }
   ],
   "source": [
    "for argument in sys.argv:\n",
    "    if sys.argv.index(argument) == 0:\n",
    "        print(\"This is a file name: \" + argument)\n",
    "    else:\n",
    "        print('This is an argument: ' + argument)"
   ]
  },
  {
   "cell_type": "code",
   "execution_count": 5,
   "metadata": {},
   "outputs": [
    {
     "name": "stdout",
     "output_type": "stream",
     "text": [
      "Argument 0: -f\n",
      "Argument 1: /Users/How.Short/Library/Jupyter/runtime/kernel-6ff1c10f-911b-466d-95a9-0119b46531ad.json\n"
     ]
    }
   ],
   "source": [
    "for index,argument in enumerate(sys.argv[1:]):\n",
    "    print('Argument ' + str(index) + ': ' + argument)"
   ]
  },
  {
   "cell_type": "code",
   "execution_count": null,
   "metadata": {},
   "outputs": [],
   "source": []
  }
 ],
 "metadata": {
  "kernelspec": {
   "display_name": "Python 3",
   "language": "python",
   "name": "python3"
  },
  "language_info": {
   "codemirror_mode": {
    "name": "ipython",
    "version": 3
   },
   "file_extension": ".py",
   "mimetype": "text/x-python",
   "name": "python",
   "nbconvert_exporter": "python",
   "pygments_lexer": "ipython3",
   "version": "3.7.4"
  }
 },
 "nbformat": 4,
 "nbformat_minor": 2
}
