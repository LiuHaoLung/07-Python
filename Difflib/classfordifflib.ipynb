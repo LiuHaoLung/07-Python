{
 "cells": [
  {
   "cell_type": "markdown",
   "metadata": {},
   "source": [
    "<code>- </code> line unique to sequence 1\n",
    "\n",
    "<code>+ </code> line unique to sequence 2\n",
    "\n",
    "<code>  </code> line common to both sequences\n",
    "\n",
    "<code>? </code> line not present in either input sequence"
   ]
  },
  {
   "cell_type": "code",
   "execution_count": 1,
   "metadata": {},
   "outputs": [],
   "source": [
    "from difflib import Differ\n",
    "from difflib import HtmlDiff\n",
    "from difflib import SequenceMatcher"
   ]
  },
  {
   "cell_type": "code",
   "execution_count": 2,
   "metadata": {},
   "outputs": [
    {
     "name": "stdout",
     "output_type": "stream",
     "text": [
      "- To shewing another demands too.\n",
      "\n",
      "+ To shewing another demands too. Python\n",
      "\n",
      "?                                +++++++\n",
      "\n",
      "- Marianne property cheerful informed at striking cotxage.\n",
      "\n",
      "?                                                    ^\n",
      "\n",
      "+ Marianne property cheerful informed at striking cottage.\n",
      "\n",
      "?                                                    ^\n",
      "\n",
      "- In views it or meant drift to.\n",
      "\n",
      "?                      -----\n",
      "\n",
      "+ In views it or meant  to.\n",
      "\n",
      "  Be concern parlors settled or do shyness address.\n",
      "\n",
      "  Yet late add name rent park from rich.\n",
      "\n",
      "+ hello\n",
      "\n"
     ]
    }
   ],
   "source": [
    "with open('file1.txt') as f1, open('file2.txt') as f2:\n",
    "    d1 = Differ().compare(f1.readlines(), f2.readlines())\n",
    "    print('\\n'.join(d1))"
   ]
  },
  {
   "cell_type": "markdown",
   "metadata": {},
   "source": [
    "只要有不同的，都會標記出來，標記出來的那行，最前頭都會有 <code>?</code>"
   ]
  },
  {
   "cell_type": "code",
   "execution_count": 3,
   "metadata": {
    "scrolled": true
   },
   "outputs": [
    {
     "name": "stdout",
     "output_type": "stream",
     "text": [
      "0.9577464788732394\n",
      "There is a 95.77 percent match!\n"
     ]
    }
   ],
   "source": [
    "with open('file1.txt') as f1, open('file2.txt') as f2:\n",
    "    # isjunk 規則是忽略某些元素，在這個位置放上 None，代表不忽略任何元素。\n",
    "    # f1.read()和f2.read()要的是 immutable ，所以不會用 readlines（回傳 list），而是用 read（回傳 string）\n",
    "    # quick_ratio() 是在計算在這兩個檔案中，有多少的相同百分比，如果都不相同，則 % 為 0，如果是 1 ，則代表兩個檔案完全相同\n",
    "    d2 = SequenceMatcher(None, f1.read(), f2.read()).quick_ratio()\n",
    "    # 會介於 0-1 之間\n",
    "    print(d2)\n",
    "    # 有兩個小數點（.2f）\n",
    "    print('There is a %.2f percent match!' % (d2 * 100))"
   ]
  },
  {
   "cell_type": "code",
   "execution_count": 4,
   "metadata": {},
   "outputs": [],
   "source": [
    "with open('file1.txt') as f1, open('file2.txt') as f2:\n",
    "    # fromlines 和 tolines 是要比較的檔案\n",
    "    # fromdesc 和 todesc 是在 html 的表格中，會呈現的欄位名稱\n",
    "    d3 = HtmlDiff().make_file(fromlines = f1.readlines(), tolines = f2.readlines(), fromdesc = 'file1', todesc = 'file2')\n",
    "    print(d3, file = open('result.html','w'))"
   ]
  },
  {
   "cell_type": "code",
   "execution_count": null,
   "metadata": {},
   "outputs": [],
   "source": []
  }
 ],
 "metadata": {
  "kernelspec": {
   "display_name": "Python 3",
   "language": "python",
   "name": "python3"
  },
  "language_info": {
   "codemirror_mode": {
    "name": "ipython",
    "version": 3
   },
   "file_extension": ".py",
   "mimetype": "text/x-python",
   "name": "python",
   "nbconvert_exporter": "python",
   "pygments_lexer": "ipython3",
   "version": "3.7.4"
  }
 },
 "nbformat": 4,
 "nbformat_minor": 2
}
